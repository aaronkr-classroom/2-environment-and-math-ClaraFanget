{
 "cells": [
  {
   "cell_type": "markdown",
   "id": "2d9589a5",
   "metadata": {},
   "source": [
    "# Markdown\n",
    "\n",
    "Write your own MD content form `slide 49`."
   ]
  },
  {
   "cell_type": "code",
   "execution_count": null,
   "id": "f9a5ed3a",
   "metadata": {},
   "outputs": [
    {
     "name": "stdout",
     "output_type": "stream",
     "text": [
      "Hello Clara !\n",
      "Hello, Clara!\n",
      "- learn ML\n",
      "- mearn DL\n",
      "- deeply learn DL\n",
      "Let's learn ML!\n"
     ]
    }
   ],
   "source": [
    "#1. Hello Python\n",
    "name = \"Clara\"\n",
    "goals=['learn ML','learn DL','deeply learn DL']\n",
    "\n",
    "print(\"Hello\", name,\"!\")\n",
    "print(\"Hello, \" +name+ \"!\")\n",
    "\n",
    "#for(1 starting point; 2 end condition; 4 next step;){\n",
    "#3 executin code;\n",
    "#}\n",
    "for g in goals:\n",
    "    print(\"-\",g)\n",
    "\n",
    "# if - elif - else\n",
    "if \"learn ML\" in goals:\n",
    "    print(\"Let's learn ML!\")"
   ]
  }
 ],
 "metadata": {
  "kernelspec": {
   "display_name": "Python 3",
   "language": "python",
   "name": "python3"
  },
  "language_info": {
   "codemirror_mode": {
    "name": "ipython",
    "version": 3
   },
   "file_extension": ".py",
   "mimetype": "text/x-python",
   "name": "python",
   "nbconvert_exporter": "python",
   "pygments_lexer": "ipython3",
   "version": "3.13.3"
  }
 },
 "nbformat": 4,
 "nbformat_minor": 5
}
